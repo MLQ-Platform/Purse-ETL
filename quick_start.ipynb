{
 "cells": [
  {
   "cell_type": "markdown",
   "metadata": {},
   "source": [
    "## Purse-ETL Quick Start"
   ]
  },
  {
   "cell_type": "markdown",
   "metadata": {},
   "source": [
    "## Extract Futures OHLCV from Binance Data Collection"
   ]
  },
  {
   "cell_type": "code",
   "execution_count": 1,
   "metadata": {},
   "outputs": [
    {
     "name": "stderr",
     "output_type": "stream",
     "text": [
      "2024-09-18 02:26:19,108 - INFO - Files in ZIP for 2024-09-12: ['BTCUSDT-5m-2024-09-12.csv']\n",
      "2024-09-18 02:26:19,120 - INFO - Loaded data with shape: (288, 12)\n"
     ]
    }
   ],
   "source": [
    "from etl.extractor.binance_collector import BinanceFuturesUM\n",
    "from etl.extractor.binance_collector.types import TimeFrame\n",
    "\n",
    "# Binance Data Collection Extractor\n",
    "extractor_um = BinanceFuturesUM(ticker='BTCUSDT', timeframe=TimeFrame.MINUTE5)\n",
    "\n",
    "# Klines Data\n",
    "klines = extractor_um.load(start_date='2024-09-12', end_date='2024-09-12')"
   ]
  },
  {
   "cell_type": "markdown",
   "metadata": {},
   "source": [
    "## OHLCV Data Transformer"
   ]
  },
  {
   "cell_type": "code",
   "execution_count": 2,
   "metadata": {},
   "outputs": [
    {
     "data": {
      "text/html": [
       "<div>\n",
       "<style scoped>\n",
       "    .dataframe tbody tr th:only-of-type {\n",
       "        vertical-align: middle;\n",
       "    }\n",
       "\n",
       "    .dataframe tbody tr th {\n",
       "        vertical-align: top;\n",
       "    }\n",
       "\n",
       "    .dataframe thead th {\n",
       "        text-align: right;\n",
       "    }\n",
       "</style>\n",
       "<table border=\"1\" class=\"dataframe\">\n",
       "  <thead>\n",
       "    <tr style=\"text-align: right;\">\n",
       "      <th></th>\n",
       "      <th>open</th>\n",
       "      <th>high</th>\n",
       "      <th>low</th>\n",
       "      <th>close</th>\n",
       "      <th>volume</th>\n",
       "    </tr>\n",
       "    <tr>\n",
       "      <th>datetime</th>\n",
       "      <th></th>\n",
       "      <th></th>\n",
       "      <th></th>\n",
       "      <th></th>\n",
       "      <th></th>\n",
       "    </tr>\n",
       "  </thead>\n",
       "  <tbody>\n",
       "    <tr>\n",
       "      <th>2024-09-12 00:00:00</th>\n",
       "      <td>57305.6</td>\n",
       "      <td>57384.6</td>\n",
       "      <td>57283.1</td>\n",
       "      <td>57343.7</td>\n",
       "      <td>657.984</td>\n",
       "    </tr>\n",
       "    <tr>\n",
       "      <th>2024-09-12 00:05:00</th>\n",
       "      <td>57343.8</td>\n",
       "      <td>57425.4</td>\n",
       "      <td>57343.8</td>\n",
       "      <td>57421.9</td>\n",
       "      <td>416.098</td>\n",
       "    </tr>\n",
       "    <tr>\n",
       "      <th>2024-09-12 00:10:00</th>\n",
       "      <td>57421.9</td>\n",
       "      <td>57489.9</td>\n",
       "      <td>57378.0</td>\n",
       "      <td>57424.2</td>\n",
       "      <td>809.946</td>\n",
       "    </tr>\n",
       "    <tr>\n",
       "      <th>2024-09-12 00:15:00</th>\n",
       "      <td>57424.2</td>\n",
       "      <td>57483.9</td>\n",
       "      <td>57386.2</td>\n",
       "      <td>57465.4</td>\n",
       "      <td>510.603</td>\n",
       "    </tr>\n",
       "    <tr>\n",
       "      <th>2024-09-12 00:20:00</th>\n",
       "      <td>57465.4</td>\n",
       "      <td>57694.0</td>\n",
       "      <td>57439.9</td>\n",
       "      <td>57627.3</td>\n",
       "      <td>2332.724</td>\n",
       "    </tr>\n",
       "    <tr>\n",
       "      <th>...</th>\n",
       "      <td>...</td>\n",
       "      <td>...</td>\n",
       "      <td>...</td>\n",
       "      <td>...</td>\n",
       "      <td>...</td>\n",
       "    </tr>\n",
       "    <tr>\n",
       "      <th>2024-09-12 23:35:00</th>\n",
       "      <td>58058.9</td>\n",
       "      <td>58122.0</td>\n",
       "      <td>58058.9</td>\n",
       "      <td>58110.1</td>\n",
       "      <td>213.390</td>\n",
       "    </tr>\n",
       "    <tr>\n",
       "      <th>2024-09-12 23:40:00</th>\n",
       "      <td>58110.1</td>\n",
       "      <td>58158.0</td>\n",
       "      <td>58084.8</td>\n",
       "      <td>58085.5</td>\n",
       "      <td>218.786</td>\n",
       "    </tr>\n",
       "    <tr>\n",
       "      <th>2024-09-12 23:45:00</th>\n",
       "      <td>58085.5</td>\n",
       "      <td>58139.5</td>\n",
       "      <td>58070.0</td>\n",
       "      <td>58132.2</td>\n",
       "      <td>335.772</td>\n",
       "    </tr>\n",
       "    <tr>\n",
       "      <th>2024-09-12 23:50:00</th>\n",
       "      <td>58132.1</td>\n",
       "      <td>58155.1</td>\n",
       "      <td>58070.4</td>\n",
       "      <td>58070.5</td>\n",
       "      <td>167.614</td>\n",
       "    </tr>\n",
       "    <tr>\n",
       "      <th>2024-09-12 23:55:00</th>\n",
       "      <td>58070.4</td>\n",
       "      <td>58104.1</td>\n",
       "      <td>58067.8</td>\n",
       "      <td>58097.0</td>\n",
       "      <td>184.711</td>\n",
       "    </tr>\n",
       "  </tbody>\n",
       "</table>\n",
       "<p>288 rows × 5 columns</p>\n",
       "</div>"
      ],
      "text/plain": [
       "                        open     high      low    close    volume\n",
       "datetime                                                         \n",
       "2024-09-12 00:00:00  57305.6  57384.6  57283.1  57343.7   657.984\n",
       "2024-09-12 00:05:00  57343.8  57425.4  57343.8  57421.9   416.098\n",
       "2024-09-12 00:10:00  57421.9  57489.9  57378.0  57424.2   809.946\n",
       "2024-09-12 00:15:00  57424.2  57483.9  57386.2  57465.4   510.603\n",
       "2024-09-12 00:20:00  57465.4  57694.0  57439.9  57627.3  2332.724\n",
       "...                      ...      ...      ...      ...       ...\n",
       "2024-09-12 23:35:00  58058.9  58122.0  58058.9  58110.1   213.390\n",
       "2024-09-12 23:40:00  58110.1  58158.0  58084.8  58085.5   218.786\n",
       "2024-09-12 23:45:00  58085.5  58139.5  58070.0  58132.2   335.772\n",
       "2024-09-12 23:50:00  58132.1  58155.1  58070.4  58070.5   167.614\n",
       "2024-09-12 23:55:00  58070.4  58104.1  58067.8  58097.0   184.711\n",
       "\n",
       "[288 rows x 5 columns]"
      ]
     },
     "execution_count": 2,
     "metadata": {},
     "output_type": "execute_result"
    }
   ],
   "source": [
    "from etl.transformer.binance_collector import BinanceKlinesTransformer\n",
    "\n",
    "transformer = BinanceKlinesTransformer()\n",
    "ohlcv = transformer.transform(klines)\n",
    "ohlcv"
   ]
  },
  {
   "cell_type": "markdown",
   "metadata": {},
   "source": [
    "## Data Load to MySQL DB"
   ]
  },
  {
   "cell_type": "code",
   "execution_count": 4,
   "metadata": {},
   "outputs": [
    {
     "data": {
      "text/plain": [
       "<bound method SQLDatabaseLoader.connect of <etl.loader.sql_loader.SQLDatabaseLoader object at 0x7fbb0a217f40>>"
      ]
     },
     "execution_count": 4,
     "metadata": {},
     "output_type": "execute_result"
    }
   ],
   "source": [
    "from etl.loader import SQLDatabaseLoader\n",
    "from etl.utils import load_db_config \n",
    "from etl.utils import get_db_uri \n",
    "\n",
    "# Get DB Config\n",
    "db_config = load_db_config()\n",
    "\n",
    "# Get DB URI\n",
    "db_uri = get_db_uri(db_config)\n",
    "\n",
    "# Loader\n",
    "loader = SQLDatabaseLoader(db_uri=db_uri)\n",
    "loader.connect"
   ]
  },
  {
   "cell_type": "code",
   "execution_count": 10,
   "metadata": {},
   "outputs": [],
   "source": [
    "from etl.loader.table import OHLCV\n",
    "from etl.loader.query import upsert_query_func\n",
    "\n",
    "ticker = 'BTCUSDt'\n",
    "\n",
    "# OHLCV Object\n",
    "table = OHLCV(\n",
    "    datetime=ohlcv.index.tolist(),\n",
    "    open=ohlcv.open.tolist(),\n",
    "    high=ohlcv.high.tolist(),\n",
    "    low=ohlcv.low.tolist(),\n",
    "    close=ohlcv.close.tolist(),\n",
    "    volume=ohlcv.volume.tolist(),\n",
    ")\n",
    "\n",
    "# Prefixed Upsert Query\n",
    "query = upsert_query_func(\n",
    "    table, table_name=f\"ohlcv_{ticker}\".lower(), unique_key=\"datetime\"\n",
    ")"
   ]
  },
  {
   "cell_type": "code",
   "execution_count": null,
   "metadata": {},
   "outputs": [],
   "source": [
    "# Data Transaction \n",
    "\n",
    "loader.transaction(query)\n",
    "loader.close()"
   ]
  }
 ],
 "metadata": {
  "kernelspec": {
   "display_name": "purse-etl-SLkp-CuR-py3.9",
   "language": "python",
   "name": "python3"
  },
  "language_info": {
   "codemirror_mode": {
    "name": "ipython",
    "version": 3
   },
   "file_extension": ".py",
   "mimetype": "text/x-python",
   "name": "python",
   "nbconvert_exporter": "python",
   "pygments_lexer": "ipython3",
   "version": "3.9.19"
  }
 },
 "nbformat": 4,
 "nbformat_minor": 2
}
